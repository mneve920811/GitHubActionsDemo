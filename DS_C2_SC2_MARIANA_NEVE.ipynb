{
  "nbformat": 4,
  "nbformat_minor": 0,
  "metadata": {
    "colab": {
      "provenance": [],
      "authorship_tag": "ABX9TyO6gs/xLFByZFOxH3g2a2Hc",
      "include_colab_link": true
    },
    "kernelspec": {
      "name": "python3",
      "display_name": "Python 3"
    },
    "language_info": {
      "name": "python"
    }
  },
  "cells": [
    {
      "cell_type": "markdown",
      "metadata": {
        "id": "view-in-github",
        "colab_type": "text"
      },
      "source": [
        "<a href=\"https://colab.research.google.com/github/mneve920811/GitHubActionsDemo/blob/main/DS_C2_SC2_MARIANA_NEVE.ipynb\" target=\"_parent\"><img src=\"https://colab.research.google.com/assets/colab-badge.svg\" alt=\"Open In Colab\"/></a>"
      ]
    },
    {
      "cell_type": "code",
      "source": [
        "import pandas as pd\n",
        "import numpy as np\n"
      ],
      "metadata": {
        "id": "Q74IZS2gWAQb"
      },
      "execution_count": 74,
      "outputs": []
    },
    {
      "cell_type": "code",
      "source": [
        "df = pd.read_csv(\"/content/country_vaccinations.csv\")\n"
      ],
      "metadata": {
        "id": "DtiKr3ZOqg5d"
      },
      "execution_count": 78,
      "outputs": []
    },
    {
      "cell_type": "code",
      "source": [
        "df['date'] = pd.to_datetime(df['date'], dayfirst=True, errors='coerce')"
      ],
      "metadata": {
        "id": "U1naS1RDrC4k"
      },
      "execution_count": 81,
      "outputs": []
    },
    {
      "cell_type": "code",
      "source": [
        "print(df.info())"
      ],
      "metadata": {
        "colab": {
          "base_uri": "https://localhost:8080/"
        },
        "collapsed": true,
        "id": "Zn4JEQ1wrj6i",
        "outputId": "73eb1935-db5f-4188-ae30-3dab15e58ed1"
      },
      "execution_count": 82,
      "outputs": [
        {
          "output_type": "stream",
          "name": "stdout",
          "text": [
            "<class 'pandas.core.frame.DataFrame'>\n",
            "RangeIndex: 86512 entries, 0 to 86511\n",
            "Data columns (total 15 columns):\n",
            " #   Column                               Non-Null Count  Dtype         \n",
            "---  ------                               --------------  -----         \n",
            " 0   country                              86512 non-null  object        \n",
            " 1   iso_code                             86512 non-null  object        \n",
            " 2   date                                 86512 non-null  datetime64[ns]\n",
            " 3   total_vaccinations                   43607 non-null  float64       \n",
            " 4   people_vaccinated                    41294 non-null  float64       \n",
            " 5   people_fully_vaccinated              38802 non-null  float64       \n",
            " 6   daily_vaccinations_raw               35362 non-null  float64       \n",
            " 7   daily_vaccinations                   86213 non-null  float64       \n",
            " 8   total_vaccinations_per_hundred       43607 non-null  float64       \n",
            " 9   people_vaccinated_per_hundred        41294 non-null  float64       \n",
            " 10  people_fully_vaccinated_per_hundred  38802 non-null  float64       \n",
            " 11  daily_vaccinations_per_million       86213 non-null  float64       \n",
            " 12  vaccines                             86512 non-null  object        \n",
            " 13  source_name                          86512 non-null  object        \n",
            " 14  source_website                       86512 non-null  object        \n",
            "dtypes: datetime64[ns](1), float64(9), object(5)\n",
            "memory usage: 9.9+ MB\n",
            "None\n"
          ]
        }
      ]
    },
    {
      "cell_type": "code",
      "source": [
        "# Asegurar que daily_vaccinations sea numérico y NaN -> 0\n",
        "df['daily_vaccinations'] = pd.to_numeric(df['daily_vaccinations'], errors='coerce').fillna(0)\n",
        "\n",
        "# Configurar formato de impresión: enteros con separador de miles\n",
        "pd.options.display.float_format = '{:,.0f}'.format\n",
        "\n",
        "# Agrupar por 'vaccines' y sumar\n",
        "vacunas_por_compania = (\n",
        "    df.groupby('vaccines', dropna=False)['daily_vaccinations']\n",
        "      .sum()\n",
        "      .sort_values(ascending=False)\n",
        "      .to_frame(name='total_daily_vaccinations')\n",
        ")\n",
        "\n",
        "# Imprimir resultado\n",
        "print(\"=== Total de daily_vaccinations por compañía ===\")\n",
        "for vacuna, total in vacunas_por_compania['total_daily_vaccinations'].items():\n",
        "    print(f\"{vacuna}: {total:,.0f}\")"
      ],
      "metadata": {
        "colab": {
          "base_uri": "https://localhost:8080/"
        },
        "collapsed": true,
        "id": "9aR3iIiNrz9b",
        "outputId": "af5a6328-b462-4cd0-ca2c-65ec1a07bc96"
      },
      "execution_count": 84,
      "outputs": [
        {
          "output_type": "stream",
          "name": "stdout",
          "text": [
            "=== Total de daily_vaccinations por compañía ===\n",
            "CanSino, Sinopharm/Beijing, Sinopharm/Wuhan, Sinovac, ZF2001: 3,250,342,496\n",
            "Covaxin, Oxford/AstraZeneca, Sputnik V: 1,829,085,487\n",
            "Moderna, Oxford/AstraZeneca, Pfizer/BioNTech: 620,164,884\n",
            "Johnson&Johnson, Moderna, Pfizer/BioNTech: 589,020,809\n",
            "Johnson&Johnson, Moderna, Novavax, Oxford/AstraZeneca, Pfizer/BioNTech: 505,216,912\n",
            "Johnson&Johnson, Moderna, Oxford/AstraZeneca, Pfizer/BioNTech: 485,378,897\n",
            "Johnson&Johnson, Oxford/AstraZeneca, Pfizer/BioNTech, Sinovac: 414,643,555\n",
            "Johnson&Johnson, Moderna, Novavax, Oxford/AstraZeneca, Pfizer/BioNTech, Sinopharm/Beijing, Sinovac: 373,213,575\n",
            "Johnson&Johnson, Moderna, Oxford/AstraZeneca, Pfizer/BioNTech, Sinopharm/Beijing, Sinovac: 232,845,439\n",
            "CanSino, Covaxin, Moderna, Oxford/AstraZeneca, Pfizer/BioNTech, Sinopharm/Beijing, Sinovac, Sputnik V: 217,745,032\n",
            "Abdala, Moderna, Oxford/AstraZeneca, Pfizer/BioNTech, Sinopharm/Beijing, Sputnik V: 201,816,053\n",
            "CanSino, Johnson&Johnson, Moderna, Oxford/AstraZeneca, Pfizer/BioNTech, Sinovac, Sputnik V: 190,175,636\n",
            "EpiVacCorona, Sputnik V: 163,251,520\n",
            "Johnson&Johnson, Moderna, Oxford/AstraZeneca, Pfizer/BioNTech, Sinopharm/Beijing, Sinovac, Sputnik Light, Sputnik V: 148,047,694\n",
            "Pfizer/BioNTech, Sinovac, Turkovac: 147,484,328\n",
            "COVIran Barekat, Covaxin, FAKHRAVAC, Oxford/AstraZeneca, Razi Cov Pars, Sinopharm/Beijing, Soberana02, SpikoGen, Sputnik V: 146,357,015\n",
            "Johnson&Johnson, Moderna, Oxford/AstraZeneca, Pfizer/BioNTech, Sinovac: 128,966,852\n",
            "Moderna, Oxford/AstraZeneca, Pfizer/BioNTech, Sinopharm/Beijing, Sinovac: 128,433,095\n",
            "CanSino, Moderna, Oxford/AstraZeneca, Pfizer/BioNTech, Sinopharm/Beijing, Sputnik V: 96,396,690\n",
            "Oxford/AstraZeneca, Pfizer/BioNTech: 93,395,812\n",
            "CanSino, Oxford/AstraZeneca, Pfizer/BioNTech, Sinovac: 83,246,677\n",
            "Johnson&Johnson, Oxford/AstraZeneca, Pfizer/BioNTech, Sinopharm/Beijing, Sinovac, Sputnik V: 81,924,005\n",
            "Johnson&Johnson, Oxford/AstraZeneca, Pfizer/BioNTech, Sinopharm/Beijing, Sputnik V: 79,662,946\n",
            "CanSino, Oxford/AstraZeneca, Pfizer/BioNTech, Sinopharm/Beijing, Sinovac: 68,692,510\n",
            "Oxford/AstraZeneca, Pfizer/BioNTech, Sinopharm/Beijing: 67,099,519\n",
            "Johnson&Johnson, Moderna, Oxford/AstraZeneca, Pfizer/BioNTech, Sinopharm/Beijing: 65,901,897\n",
            "Oxford/AstraZeneca: 56,887,281\n",
            "Oxford/AstraZeneca, Sinopharm/Beijing: 56,877,190\n",
            "Medigen, Moderna, Oxford/AstraZeneca, Pfizer/BioNTech: 49,343,587\n",
            "Moderna, Oxford/AstraZeneca, Pfizer/BioNTech, Sinovac, Sputnik Light, Sputnik V, ZF2001: 43,932,105\n",
            "Moderna, Oxford/AstraZeneca, Pfizer/BioNTech, Sinopharm/Beijing, Sputnik V: 39,978,551\n",
            "Johnson&Johnson, Oxford/AstraZeneca, Sinopharm/Beijing, Sinovac: 38,956,721\n",
            "Abdala, Sinopharm/Beijing, Sinovac, Soberana02, Sputnik Light, Sputnik V: 37,861,146\n",
            "Oxford/AstraZeneca, Pfizer/BioNTech, Sinopharm/Beijing, Sputnik V: 37,388,719\n",
            "Johnson&Johnson, Oxford/AstraZeneca, Sinopharm/Beijing: 37,036,794\n",
            "Moderna, Pfizer/BioNTech: 36,343,219\n",
            "Abdala, Soberana Plus, Soberana02: 33,802,957\n",
            "Johnson&Johnson, Pfizer/BioNTech: 33,696,629\n",
            "Johnson&Johnson, Moderna, Oxford/AstraZeneca, Pfizer/BioNTech, Sinopharm/Beijing, Sinovac, Sputnik V: 31,513,208\n",
            "Covaxin, Johnson&Johnson, Oxford/AstraZeneca, Sinopharm/Beijing, Sinovac: 28,971,509\n",
            "Oxford/AstraZeneca, Pfizer/BioNTech, Sinopharm/Beijing, Sinovac: 28,687,336\n",
            "Johnson&Johnson, Moderna, Oxford/AstraZeneca, Pfizer/BioNTech, Sinopharm/Beijing, Sputnik V: 26,083,637\n",
            "Oxford/AstraZeneca, Pfizer/BioNTech, Sinovac, Sputnik V: 25,046,010\n",
            "Oxford/AstraZeneca, Pfizer/BioNTech, Sinopharm/Beijing, Sinopharm/Wuhan, Sputnik V: 23,704,599\n",
            "Oxford/AstraZeneca, Sinopharm/Beijing, Sinovac, Sputnik V: 22,451,663\n",
            "QazVac, Sinopharm/Beijing, Sputnik V: 20,891,256\n",
            "Moderna, Oxford/AstraZeneca, Pfizer/BioNTech, Sputnik V: 15,603,719\n",
            "Pfizer/BioNTech, Sinovac: 14,782,968\n",
            "Sinopharm/Beijing, Sputnik V: 14,398,697\n",
            "Moderna, Pfizer/BioNTech, Sinopharm/Beijing, Sinovac: 13,798,972\n",
            "Oxford/AstraZeneca, Sputnik V: 12,605,420\n",
            "Johnson&Johnson, Moderna, Oxford/AstraZeneca, Pfizer/BioNTech, Sputnik V: 11,950,310\n",
            "Moderna, Oxford/AstraZeneca, Pfizer/BioNTech, Sinovac, Sputnik V: 10,235,637\n",
            "Johnson&Johnson, Oxford/AstraZeneca, Pfizer/BioNTech, Sinopharm/Beijing: 10,072,170\n",
            "Johnson&Johnson, Oxford/AstraZeneca, Pfizer/BioNTech, Sinopharm/Beijing, Sinovac, Sputnik Light, Sputnik V: 9,982,259\n",
            "Oxford/AstraZeneca, Pfizer/BioNTech, Sinovac: 9,921,454\n",
            "Abdala, Johnson&Johnson, Oxford/AstraZeneca, Pfizer/BioNTech, Soberana02, Sputnik Light, Sputnik V: 9,616,160\n",
            "Covaxin, Moderna, Oxford/AstraZeneca, Pfizer/BioNTech, Sinopharm/Beijing, Sinovac, Sputnik V: 8,406,382\n",
            "EpiVacCorona, Oxford/AstraZeneca, QazVac, Sinopharm/Beijing, Sputnik V, ZF2001: 7,653,267\n",
            "Johnson&Johnson, Moderna, Novavax, Oxford/AstraZeneca, Pfizer/BioNTech, Sputnik V: 7,036,417\n",
            "Johnson&Johnson, Oxford/AstraZeneca, Pfizer/BioNTech, Sinopharm/Beijing, Sinovac: 6,073,043\n",
            "Oxford/AstraZeneca, Pfizer/BioNTech, Sinopharm/Beijing, Sinovac, Sputnik V: 5,253,963\n",
            "Johnson&Johnson, Pfizer/BioNTech, Sinopharm/Beijing: 4,967,642\n",
            "Johnson&Johnson, Moderna, Oxford/AstraZeneca, Pfizer/BioNTech, Sinopharm/Beijing, Sputnik Light, Sputnik V: 3,399,681\n",
            "Johnson&Johnson, Oxford/AstraZeneca, Sinopharm/Beijing, Sinovac, Sputnik Light, Sputnik V: 3,365,307\n",
            "Covaxin, Oxford/AstraZeneca, Sinopharm/Beijing: 3,105,653\n",
            "Johnson&Johnson, Moderna, Novavax, Pfizer/BioNTech: 2,873,254\n",
            "Moderna, Oxford/AstraZeneca, Pfizer/BioNTech, Sinopharm/Beijing: 2,755,473\n",
            "Johnson&Johnson, Oxford/AstraZeneca: 2,585,057\n",
            "Covaxin, Johnson&Johnson, Moderna, Oxford/AstraZeneca, Pfizer/BioNTech, Sinovac: 2,120,207\n",
            "Moderna, Oxford/AstraZeneca, Sinopharm/Beijing, Sinovac, Sputnik V: 2,079,254\n",
            "Pfizer/BioNTech, Sinopharm/Beijing: 1,227,187\n",
            "Covaxin, Oxford/AstraZeneca: 1,005,564\n",
            "Johnson&Johnson, Oxford/AstraZeneca, Pfizer/BioNTech: 939,298\n",
            "Sinopharm/Beijing: 893,824\n",
            "Moderna, Oxford/AstraZeneca, Sinopharm/Beijing, Sputnik V: 806,924\n",
            "Johnson&Johnson, Oxford/AstraZeneca, Sinovac: 794,952\n",
            "Pfizer/BioNTech: 681,723\n",
            "Pfizer/BioNTech, Sinopharm/Beijing, Sputnik V: 548,794\n",
            "Johnson&Johnson, Moderna: 248,463\n",
            "Oxford/AstraZeneca, Sinopharm/Beijing, Sputnik V: 200,773\n",
            "Oxford/AstraZeneca, Pfizer/BioNTech, Sputnik V: 127,997\n",
            "Moderna: 89,911\n",
            "Pfizer/BioNTech, Sputnik V: 68,643\n"
          ]
        }
      ]
    },
    {
      "cell_type": "code",
      "source": [
        "# Asegurar que sea numérico y reemplazar NaN por 0\n",
        "df['daily_vaccinations'] = pd.to_numeric(df['daily_vaccinations'], errors='coerce').fillna(0)\n",
        "\n",
        "# Sumar valores\n",
        "total_mundial = df['daily_vaccinations'].sum()\n",
        "\n",
        "# Mostrar resultado\n",
        "print(\"Total mundial de daily_vaccinations:\", f\"{total_mundial:,.0f}\")"
      ],
      "metadata": {
        "colab": {
          "base_uri": "https://localhost:8080/"
        },
        "id": "A8bOIRzhs-Jj",
        "outputId": "87c65358-1187-4b78-c214-187e37a3b2c7"
      },
      "execution_count": 85,
      "outputs": [
        {
          "output_type": "stream",
          "name": "stdout",
          "text": [
            "Total mundial de daily_vaccinations: 11,320,239,871\n"
          ]
        }
      ]
    },
    {
      "cell_type": "code",
      "source": [
        "# Asegurar que daily_vaccinations sea numérico y NaN -> 0\n",
        "df['daily_vaccinations'] = pd.to_numeric(df['daily_vaccinations'], errors='coerce').fillna(0)\n",
        "\n",
        "# Sumar por país\n",
        "total_por_pais = df.groupby('country')['daily_vaccinations'].sum()\n",
        "\n",
        "# Calcular promedio\n",
        "promedio_por_pais = total_por_pais.mean()\n",
        "\n",
        "# Mostrar lista de países y sus totales\n",
        "print(\"=== Total de daily_vaccinations por país ===\")\n",
        "for country, total in total_por_pais.items():\n",
        "    print(f\"{country}: {total:,.0f}\")\n",
        "\n",
        "# Mostrar promedio\n",
        "print(\"\\nPromedio de daily_vaccinations por país:\", f\"{promedio_por_pais:,.0f}\")"
      ],
      "metadata": {
        "colab": {
          "base_uri": "https://localhost:8080/"
        },
        "collapsed": true,
        "id": "5vTQX8LytRAR",
        "outputId": "9ec4b90f-0c4f-4c22-83a7-dcb40365361a"
      },
      "execution_count": 86,
      "outputs": [
        {
          "output_type": "stream",
          "name": "stdout",
          "text": [
            "=== Total de daily_vaccinations por país ===\n",
            "Afghanistan: 5,741,998\n",
            "Albania: 2,748,980\n",
            "Algeria: 13,697,360\n",
            "Andorra: 151,499\n",
            "Angola: 17,435,547\n",
            "Anguilla: 23,128\n",
            "Antigua and Barbuda: 127,997\n",
            "Argentina: 96,396,690\n",
            "Armenia: 2,079,254\n",
            "Aruba: 147,104\n",
            "Australia: 56,071,891\n",
            "Austria: 18,131,949\n",
            "Azerbaijan: 13,406,873\n",
            "Bahamas: 334,063\n",
            "Bahrain: 3,399,681\n",
            "Bangladesh: 232,845,439\n",
            "Barbados: 314,227\n",
            "Belarus: 11,509,794\n",
            "Belgium: 25,221,195\n",
            "Belize: 467,027\n",
            "Benin: 3,265,021\n",
            "Bermuda: 127,654\n",
            "Bhutan: 2,027,553\n",
            "Bolivia: 12,926,843\n",
            "Bonaire Sint Eustatius and Saba: 28,420\n",
            "Bosnia and Herzegovina: 1,913,728\n",
            "Botswana: 2,120,207\n",
            "Brazil: 411,378,534\n",
            "British Virgin Islands: 25,262\n",
            "Brunei: 1,067,347\n",
            "Bulgaria: 4,347,686\n",
            "Burkina Faso: 2,364,862\n",
            "Burundi: 12,150\n",
            "Cambodia: 36,716,148\n",
            "Cameroon: 1,488,796\n",
            "Canada: 82,010,216\n",
            "Cape Verde: 727,920\n",
            "Cayman Islands: 141,749\n",
            "Central African Republic: 1,005,564\n",
            "Chad: 414,391\n",
            "Chile: 50,166,643\n",
            "China: 3,250,342,496\n",
            "Colombia: 80,325,853\n",
            "Comoros: 628,825\n",
            "Congo: 806,924\n",
            "Cook Islands: 26,789\n",
            "Costa Rica: 10,092,933\n",
            "Cote d'Ivoire: 10,317,345\n",
            "Croatia: 5,217,712\n",
            "Cuba: 33,802,957\n",
            "Curacao: 229,657\n",
            "Cyprus: 1,767,377\n",
            "Czechia: 17,491,237\n",
            "Democratic Republic of Congo: 951,397\n",
            "Denmark: 13,209,023\n",
            "Djibouti: 155,429\n",
            "Dominica: 62,881\n",
            "Dominican Republic: 15,475,985\n",
            "Ecuador: 33,080,034\n",
            "Egypt: 75,906,019\n",
            "El Salvador: 10,357,605\n",
            "England: 116,298,428\n",
            "Equatorial Guinea: 467,283\n",
            "Estonia: 1,971,332\n",
            "Eswatini: 518,082\n",
            "Ethiopia: 28,971,509\n",
            "Faeroe Islands: 100,064\n",
            "Falkland Islands: 4,933\n",
            "Fiji: 1,308,133\n",
            "Finland: 11,682,015\n",
            "France: 141,586,302\n",
            "French Polynesia: 365,451\n",
            "Gabon: 548,794\n",
            "Gambia: 364,195\n",
            "Georgia: 2,853,746\n",
            "Germany: 171,903,993\n",
            "Ghana: 12,605,420\n",
            "Gibraltar: 118,060\n",
            "Greece: 20,470,918\n",
            "Greenland: 77,373\n",
            "Grenada: 87,153\n",
            "Guatemala: 15,603,719\n",
            "Guernsey: 145,792\n",
            "Guinea: 5,862,557\n",
            "Guinea-Bissau: 558,071\n",
            "Guyana: 888,738\n",
            "Haiti: 248,463\n",
            "Honduras: 11,950,310\n",
            "Hong Kong: 14,782,968\n",
            "Hungary: 16,376,999\n",
            "Iceland: 800,598\n",
            "India: 1,829,085,487\n",
            "Indonesia: 373,213,575\n",
            "Iran: 146,357,015\n",
            "Iraq: 17,478,087\n",
            "Ireland: 10,729,599\n",
            "Isle of Man: 186,299\n",
            "Israel: 18,119,560\n",
            "Italy: 135,755,490\n",
            "Jamaica: 1,398,881\n",
            "Japan: 251,739,703\n",
            "Jersey: 181,880\n",
            "Jordan: 9,706,638\n",
            "Kazakhstan: 20,891,256\n",
            "Kenya: 17,240,992\n",
            "Kiribati: 133,016\n",
            "Kosovo: 1,821,660\n",
            "Kuwait: 7,788,956\n",
            "Kyrgyzstan: 2,888,903\n",
            "Laos: 9,982,259\n",
            "Latvia: 2,873,254\n",
            "Lebanon: 5,270,519\n",
            "Lesotho: 902,652\n",
            "Liberia: 1,093,880\n",
            "Libya: 3,418,436\n",
            "Liechtenstein: 70,420\n",
            "Lithuania: 4,469,241\n",
            "Luxembourg: 1,279,632\n",
            "Macao: 1,227,187\n",
            "Madagascar: 1,297,552\n",
            "Malawi: 1,989,350\n",
            "Malaysia: 68,692,510\n",
            "Maldives: 913,251\n",
            "Mali: 1,849,432\n",
            "Malta: 1,246,893\n",
            "Mauritania: 2,648,902\n",
            "Mauritius: 2,476,828\n",
            "Mexico: 190,175,636\n",
            "Moldova: 2,118,182\n",
            "Monaco: 65,072\n",
            "Mongolia: 5,481,513\n",
            "Montenegro: 668,465\n",
            "Montserrat: 4,320\n",
            "Morocco: 54,300,576\n",
            "Mozambique: 26,239,037\n",
            "Myanmar: 48,927,388\n",
            "Namibia: 831,696\n",
            "Nauru: 17,063\n",
            "Nepal: 39,804,602\n",
            "Netherlands: 34,007,500\n",
            "New Caledonia: 366,896\n",
            "New Zealand: 10,930,674\n",
            "Nicaragua: 9,616,160\n",
            "Niger: 2,680,539\n",
            "Nigeria: 30,801,024\n",
            "Niue: 4,324\n",
            "North Macedonia: 1,835,527\n",
            "Northern Cyprus: 602,390\n",
            "Northern Ireland: 3,686,755\n",
            "Norway: 11,267,309\n",
            "Oman: 6,976,429\n",
            "Pakistan: 217,745,032\n",
            "Palestine: 3,620,769\n",
            "Panama: 7,855,366\n",
            "Papua New Guinea: 571,996\n",
            "Paraguay: 8,406,382\n",
            "Peru: 65,303,746\n",
            "Philippines: 144,426,925\n",
            "Pitcairn: 43\n",
            "Poland: 53,904,067\n",
            "Portugal: 22,920,938\n",
            "Qatar: 6,598,209\n",
            "Romania: 16,736,695\n",
            "Russia: 163,251,520\n",
            "Rwanda: 18,478,476\n",
            "Saint Helena: 7,718\n",
            "Saint Kitts and Nevis: 61,352\n",
            "Saint Lucia: 117,974\n",
            "Saint Vincent and the Grenadines: 61,144\n",
            "Samoa: 296,358\n",
            "San Marino: 68,643\n",
            "Sao Tome and Principe: 201,127\n",
            "Saudi Arabia: 62,105,262\n",
            "Scotland: 11,979,542\n",
            "Senegal: 2,500,714\n",
            "Serbia: 8,490,135\n",
            "Seychelles: 200,773\n",
            "Sierra Leone: 2,062,290\n",
            "Singapore: 13,798,972\n",
            "Sint Maarten (Dutch part): 37,950\n",
            "Slovakia: 7,036,417\n",
            "Slovenia: 2,974,046\n",
            "Solomon Islands: 351,879\n",
            "Somalia: 2,240,573\n",
            "South Africa: 33,331,178\n",
            "South Korea: 120,483,456\n",
            "South Sudan: 570,445\n",
            "Spain: 93,768,856\n",
            "Sri Lanka: 39,089,813\n",
            "Sudan: 6,073,043\n",
            "Suriname: 505,414\n",
            "Sweden: 21,010,705\n",
            "Switzerland: 15,629,760\n",
            "Syria: 3,365,307\n",
            "Taiwan: 49,343,587\n",
            "Tajikistan: 10,235,637\n",
            "Tanzania: 4,967,642\n",
            "Thailand: 128,433,095\n",
            "Timor: 1,293,998\n",
            "Togo: 2,756,117\n",
            "Tokelau: 1,966\n",
            "Tonga: 145,202\n",
            "Trinidad and Tobago: 1,542,653\n",
            "Tunisia: 13,034,732\n",
            "Turkey: 147,484,328\n",
            "Turkmenistan: 7,653,267\n",
            "Turks and Caicos Islands: 69,572\n",
            "Tuvalu: 9,639\n",
            "Uganda: 17,114,131\n",
            "Ukraine: 31,526,868\n",
            "United Arab Emirates: 23,704,599\n",
            "United Kingdom: 138,825,154\n",
            "United States: 560,111,606\n",
            "Uruguay: 8,025,066\n",
            "Uzbekistan: 43,932,105\n",
            "Vanuatu: 195,446\n",
            "Venezuela: 37,861,146\n",
            "Vietnam: 201,816,053\n",
            "Wales: 6,859,138\n",
            "Wallis and Futuna: 12,538\n",
            "Yemen: 794,952\n",
            "Zambia: 3,367,782\n",
            "Zimbabwe: 8,754,303\n",
            "\n",
            "Promedio de daily_vaccinations por país: 50,763,407\n"
          ]
        }
      ]
    },
    {
      "cell_type": "code",
      "source": [
        "# Asegurar que daily_vaccinations sea numérico y NaN -> 0\n",
        "df['daily_vaccinations'] = pd.to_numeric(df['daily_vaccinations'], errors='coerce').fillna(0)\n",
        "\n",
        "# Filtrar por fecha 29/01/2021 y sumar\n",
        "fecha_obj = pd.to_datetime(\"29/01/2021\", dayfirst=True)\n",
        "total_29ene = df.loc[df['date'] == fecha_obj, 'daily_vaccinations'].sum()\n",
        "\n",
        "print(\"Total de daily_vaccinations el 29/01/2021:\", f\"{total_29ene:,.0f}\")"
      ],
      "metadata": {
        "colab": {
          "base_uri": "https://localhost:8080/"
        },
        "id": "A1tWlk6MuE-o",
        "outputId": "b20e95ac-3d48-46eb-834a-3672f7bd80e3"
      },
      "execution_count": 87,
      "outputs": [
        {
          "output_type": "stream",
          "name": "stdout",
          "text": [
            "Total de daily_vaccinations el 29/01/2021: 4,884,052\n"
          ]
        }
      ]
    },
    {
      "cell_type": "code",
      "source": [
        "\n",
        "# Asegurar que ambas columnas sean numéricas y reemplazar NaN por 0\n",
        "df['daily_vaccinations'] = pd.to_numeric(df['daily_vaccinations'], errors='coerce').fillna(0)\n",
        "df['daily_vaccinations_raw'] = pd.to_numeric(df['daily_vaccinations_raw'], errors='coerce').fillna(0)\n",
        "\n",
        "# Crear DataFrame con columna 'diferencias'\n",
        "conDiferencias = df.copy()\n",
        "conDiferencias['diferencias'] = conDiferencias['daily_vaccinations'] - conDiferencias['daily_vaccinations_raw']\n",
        "\n",
        "# Mostrar primeras filas\n",
        "print(conDiferencias.head())"
      ],
      "metadata": {
        "colab": {
          "base_uri": "https://localhost:8080/"
        },
        "collapsed": true,
        "id": "BHLzNfQ6uSIQ",
        "outputId": "826a803b-c567-4331-fce9-f1aa416aff03"
      },
      "execution_count": 88,
      "outputs": [
        {
          "output_type": "stream",
          "name": "stdout",
          "text": [
            "       country iso_code       date  total_vaccinations  people_vaccinated  \\\n",
            "0  Afghanistan      AFG 2021-02-22                   0                  0   \n",
            "1  Afghanistan      AFG 2021-02-23                 NaN                NaN   \n",
            "2  Afghanistan      AFG 2021-02-24                 NaN                NaN   \n",
            "3  Afghanistan      AFG 2021-02-25                 NaN                NaN   \n",
            "4  Afghanistan      AFG 2021-02-26                 NaN                NaN   \n",
            "\n",
            "   people_fully_vaccinated  daily_vaccinations_raw  daily_vaccinations  \\\n",
            "0                      NaN                       0                   0   \n",
            "1                      NaN                       0               1,367   \n",
            "2                      NaN                       0               1,367   \n",
            "3                      NaN                       0               1,367   \n",
            "4                      NaN                       0               1,367   \n",
            "\n",
            "   total_vaccinations_per_hundred  people_vaccinated_per_hundred  \\\n",
            "0                               0                              0   \n",
            "1                             NaN                            NaN   \n",
            "2                             NaN                            NaN   \n",
            "3                             NaN                            NaN   \n",
            "4                             NaN                            NaN   \n",
            "\n",
            "   people_fully_vaccinated_per_hundred  daily_vaccinations_per_million  \\\n",
            "0                                  NaN                             NaN   \n",
            "1                                  NaN                              34   \n",
            "2                                  NaN                              34   \n",
            "3                                  NaN                              34   \n",
            "4                                  NaN                              34   \n",
            "\n",
            "                                            vaccines  \\\n",
            "0  Johnson&Johnson, Oxford/AstraZeneca, Pfizer/Bi...   \n",
            "1  Johnson&Johnson, Oxford/AstraZeneca, Pfizer/Bi...   \n",
            "2  Johnson&Johnson, Oxford/AstraZeneca, Pfizer/Bi...   \n",
            "3  Johnson&Johnson, Oxford/AstraZeneca, Pfizer/Bi...   \n",
            "4  Johnson&Johnson, Oxford/AstraZeneca, Pfizer/Bi...   \n",
            "\n",
            "                 source_name            source_website  diferencias  \n",
            "0  World Health Organization  https://covid19.who.int/            0  \n",
            "1  World Health Organization  https://covid19.who.int/        1,367  \n",
            "2  World Health Organization  https://covid19.who.int/        1,367  \n",
            "3  World Health Organization  https://covid19.who.int/        1,367  \n",
            "4  World Health Organization  https://covid19.who.int/        1,367  \n"
          ]
        }
      ]
    },
    {
      "cell_type": "code",
      "source": [
        "# Convertir la columna date a datetime64[ns], interpretando día/mes/año\n",
        "df['date'] = pd.to_datetime(df['date'], dayfirst=True, errors='coerce')\n",
        "\n",
        "# Eliminar filas con fecha vacía o NaT\n",
        "df = df.dropna(subset=['date'])\n",
        "\n",
        "# Encontrar la fecha más antigua y la más reciente\n",
        "fecha_min = df['date'].min()\n",
        "fecha_max = df['date'].max()\n",
        "\n",
        "# Calcular el periodo\n",
        "periodo = fecha_max - fecha_min\n",
        "\n",
        "# Imprimir resultados\n",
        "print(\"Fecha más antigua:\", fecha_min)\n",
        "print(\"Fecha más reciente:\", fecha_max)\n",
        "print(\"Periodo de tiempo:\", periodo.days, \"días\")"
      ],
      "metadata": {
        "colab": {
          "base_uri": "https://localhost:8080/"
        },
        "id": "mVPPmByTunRE",
        "outputId": "68bd8d0c-9332-457b-8ed6-0e7feb6bbbaf"
      },
      "execution_count": 89,
      "outputs": [
        {
          "output_type": "stream",
          "name": "stdout",
          "text": [
            "Fecha más antigua: 2020-12-02 00:00:00\n",
            "Fecha más reciente: 2022-03-29 00:00:00\n",
            "Periodo de tiempo: 482 días\n"
          ]
        }
      ]
    },
    {
      "cell_type": "code",
      "source": [
        "# Función para contar vacunas separadas por coma\n",
        "def contar_vacunas(v):\n",
        "    if pd.isna(v):  # Si es NaN, devuelve 0\n",
        "        return 0\n",
        "    return len([vac.strip() for vac in str(v).split(',') if vac.strip() != ''])\n",
        "\n",
        "# Crear nuevo DataFrame con columna canVac\n",
        "conCantidad = df.copy()\n",
        "conCantidad['canVac'] = conCantidad['vaccines'].apply(contar_vacunas)\n",
        "\n",
        "# Mostrar primeras filas\n",
        "print(conCantidad.head())"
      ],
      "metadata": {
        "colab": {
          "base_uri": "https://localhost:8080/"
        },
        "id": "DiIkhgKmu0TH",
        "outputId": "bc9731b7-68de-40ff-aab3-9d86b3d61759"
      },
      "execution_count": 90,
      "outputs": [
        {
          "output_type": "stream",
          "name": "stdout",
          "text": [
            "       country iso_code       date  total_vaccinations  people_vaccinated  \\\n",
            "0  Afghanistan      AFG 2021-02-22                   0                  0   \n",
            "1  Afghanistan      AFG 2021-02-23                 NaN                NaN   \n",
            "2  Afghanistan      AFG 2021-02-24                 NaN                NaN   \n",
            "3  Afghanistan      AFG 2021-02-25                 NaN                NaN   \n",
            "4  Afghanistan      AFG 2021-02-26                 NaN                NaN   \n",
            "\n",
            "   people_fully_vaccinated  daily_vaccinations_raw  daily_vaccinations  \\\n",
            "0                      NaN                       0                   0   \n",
            "1                      NaN                       0               1,367   \n",
            "2                      NaN                       0               1,367   \n",
            "3                      NaN                       0               1,367   \n",
            "4                      NaN                       0               1,367   \n",
            "\n",
            "   total_vaccinations_per_hundred  people_vaccinated_per_hundred  \\\n",
            "0                               0                              0   \n",
            "1                             NaN                            NaN   \n",
            "2                             NaN                            NaN   \n",
            "3                             NaN                            NaN   \n",
            "4                             NaN                            NaN   \n",
            "\n",
            "   people_fully_vaccinated_per_hundred  daily_vaccinations_per_million  \\\n",
            "0                                  NaN                             NaN   \n",
            "1                                  NaN                              34   \n",
            "2                                  NaN                              34   \n",
            "3                                  NaN                              34   \n",
            "4                                  NaN                              34   \n",
            "\n",
            "                                            vaccines  \\\n",
            "0  Johnson&Johnson, Oxford/AstraZeneca, Pfizer/Bi...   \n",
            "1  Johnson&Johnson, Oxford/AstraZeneca, Pfizer/Bi...   \n",
            "2  Johnson&Johnson, Oxford/AstraZeneca, Pfizer/Bi...   \n",
            "3  Johnson&Johnson, Oxford/AstraZeneca, Pfizer/Bi...   \n",
            "4  Johnson&Johnson, Oxford/AstraZeneca, Pfizer/Bi...   \n",
            "\n",
            "                 source_name            source_website  canVac  \n",
            "0  World Health Organization  https://covid19.who.int/       4  \n",
            "1  World Health Organization  https://covid19.who.int/       4  \n",
            "2  World Health Organization  https://covid19.who.int/       4  \n",
            "3  World Health Organization  https://covid19.who.int/       4  \n",
            "4  World Health Organization  https://covid19.who.int/       4  \n"
          ]
        }
      ]
    },
    {
      "cell_type": "code",
      "source": [
        "# Convertir la columna date a datetime64[ns] interpretando día/mes/año\n",
        "df['date'] = pd.to_datetime(df['date'], dayfirst=True, errors='coerce')\n",
        "\n",
        "# Filtrar registros antes del 20 de diciembre de 2020\n",
        "fecha_corte = pd.to_datetime(\"20/12/2020\", dayfirst=True)\n",
        "antes20 = df[df['date'] < fecha_corte].copy()\n",
        "\n",
        "# Mostrar resultados\n",
        "print(antes20.head())\n",
        "print(f\"\\nTotal de registros antes del 20/12/2020: {len(antes20)}\")"
      ],
      "metadata": {
        "colab": {
          "base_uri": "https://localhost:8080/"
        },
        "collapsed": true,
        "id": "4Xs5Y6UHu4r8",
        "outputId": "4d67fa46-04fb-4d15-cc17-b86d7c15f802"
      },
      "execution_count": 91,
      "outputs": [
        {
          "output_type": "stream",
          "name": "stdout",
          "text": [
            "      country iso_code       date  total_vaccinations  people_vaccinated  \\\n",
            "13403  Canada      CAN 2020-12-14                   5                  5   \n",
            "13404  Canada      CAN 2020-12-15                 727                727   \n",
            "13405  Canada      CAN 2020-12-16               3,025              3,025   \n",
            "13406  Canada      CAN 2020-12-17               7,279              7,279   \n",
            "13407  Canada      CAN 2020-12-18              11,296             11,296   \n",
            "\n",
            "       people_fully_vaccinated  daily_vaccinations_raw  daily_vaccinations  \\\n",
            "13403                      NaN                       0                   0   \n",
            "13404                      NaN                     722                 722   \n",
            "13405                      NaN                   2,298               1,510   \n",
            "13406                      NaN                   4,254               2,425   \n",
            "13407                      NaN                   4,017               2,823   \n",
            "\n",
            "       total_vaccinations_per_hundred  people_vaccinated_per_hundred  \\\n",
            "13403                               0                              0   \n",
            "13404                               0                              0   \n",
            "13405                               0                              0   \n",
            "13406                               0                              0   \n",
            "13407                               0                              0   \n",
            "\n",
            "       people_fully_vaccinated_per_hundred  daily_vaccinations_per_million  \\\n",
            "13403                                  NaN                             NaN   \n",
            "13404                                  NaN                              19   \n",
            "13405                                  NaN                              40   \n",
            "13406                                  NaN                              64   \n",
            "13407                                  NaN                              74   \n",
            "\n",
            "                                                vaccines  \\\n",
            "13403  Johnson&Johnson, Moderna, Oxford/AstraZeneca, ...   \n",
            "13404  Johnson&Johnson, Moderna, Oxford/AstraZeneca, ...   \n",
            "13405  Johnson&Johnson, Moderna, Oxford/AstraZeneca, ...   \n",
            "13406  Johnson&Johnson, Moderna, Oxford/AstraZeneca, ...   \n",
            "13407  Johnson&Johnson, Moderna, Oxford/AstraZeneca, ...   \n",
            "\n",
            "                                             source_name  \\\n",
            "13403  Official data from provinces via covid19tracke...   \n",
            "13404  Official data from provinces via covid19tracke...   \n",
            "13405  Official data from provinces via covid19tracke...   \n",
            "13406  Official data from provinces via covid19tracke...   \n",
            "13407  Official data from provinces via covid19tracke...   \n",
            "\n",
            "                                          source_website  \n",
            "13403  https://covid19tracker.ca/vaccinationtracker.html  \n",
            "13404  https://covid19tracker.ca/vaccinationtracker.html  \n",
            "13405  https://covid19tracker.ca/vaccinationtracker.html  \n",
            "13406  https://covid19tracker.ca/vaccinationtracker.html  \n",
            "13407  https://covid19tracker.ca/vaccinationtracker.html  \n",
            "\n",
            "Total de registros antes del 20/12/2020: 70\n"
          ]
        }
      ]
    },
    {
      "cell_type": "code",
      "source": [
        "# Filtrar registros que contengan \"Pfizer\" (sin importar mayúsculas/minúsculas)\n",
        "pfizer = df[df['vaccines'].str.contains('Pfizer', case=False, na=False)].copy()\n",
        "\n",
        "# Mostrar resultados\n",
        "print(pfizer.head())\n",
        "print(f\"\\nTotal de registros con Pfizer: {len(pfizer)}\")"
      ],
      "metadata": {
        "colab": {
          "base_uri": "https://localhost:8080/"
        },
        "id": "1DzIutkcvTrh",
        "outputId": "0cc6c89b-a557-4673-b07f-4b508c39fff7"
      },
      "execution_count": 92,
      "outputs": [
        {
          "output_type": "stream",
          "name": "stdout",
          "text": [
            "       country iso_code       date  total_vaccinations  people_vaccinated  \\\n",
            "0  Afghanistan      AFG 2021-02-22                   0                  0   \n",
            "1  Afghanistan      AFG 2021-02-23                 NaN                NaN   \n",
            "2  Afghanistan      AFG 2021-02-24                 NaN                NaN   \n",
            "3  Afghanistan      AFG 2021-02-25                 NaN                NaN   \n",
            "4  Afghanistan      AFG 2021-02-26                 NaN                NaN   \n",
            "\n",
            "   people_fully_vaccinated  daily_vaccinations_raw  daily_vaccinations  \\\n",
            "0                      NaN                       0                   0   \n",
            "1                      NaN                       0               1,367   \n",
            "2                      NaN                       0               1,367   \n",
            "3                      NaN                       0               1,367   \n",
            "4                      NaN                       0               1,367   \n",
            "\n",
            "   total_vaccinations_per_hundred  people_vaccinated_per_hundred  \\\n",
            "0                               0                              0   \n",
            "1                             NaN                            NaN   \n",
            "2                             NaN                            NaN   \n",
            "3                             NaN                            NaN   \n",
            "4                             NaN                            NaN   \n",
            "\n",
            "   people_fully_vaccinated_per_hundred  daily_vaccinations_per_million  \\\n",
            "0                                  NaN                             NaN   \n",
            "1                                  NaN                              34   \n",
            "2                                  NaN                              34   \n",
            "3                                  NaN                              34   \n",
            "4                                  NaN                              34   \n",
            "\n",
            "                                            vaccines  \\\n",
            "0  Johnson&Johnson, Oxford/AstraZeneca, Pfizer/Bi...   \n",
            "1  Johnson&Johnson, Oxford/AstraZeneca, Pfizer/Bi...   \n",
            "2  Johnson&Johnson, Oxford/AstraZeneca, Pfizer/Bi...   \n",
            "3  Johnson&Johnson, Oxford/AstraZeneca, Pfizer/Bi...   \n",
            "4  Johnson&Johnson, Oxford/AstraZeneca, Pfizer/Bi...   \n",
            "\n",
            "                 source_name            source_website  \n",
            "0  World Health Organization  https://covid19.who.int/  \n",
            "1  World Health Organization  https://covid19.who.int/  \n",
            "2  World Health Organization  https://covid19.who.int/  \n",
            "3  World Health Organization  https://covid19.who.int/  \n",
            "4  World Health Organization  https://covid19.who.int/  \n",
            "\n",
            "Total de registros con Pfizer: 64193\n"
          ]
        }
      ]
    },
    {
      "cell_type": "code",
      "source": [
        "# Crear archivo Excel con varias hojas\n",
        "with pd.ExcelWriter(\"resultadosReto.xlsx\") as writer:\n",
        "    conDiferencias.to_excel(writer, sheet_name=\"conDiferencias\", index=False)\n",
        "    conCantidad.to_excel(writer, sheet_name=\"conCantidad\", index=False)\n",
        "    antes20.to_excel(writer, sheet_name=\"antes20\", index=False)\n",
        "    pfizer.to_excel(writer, sheet_name=\"pfizer\", index=False)\n",
        "\n",
        "print(\"Archivo 'resultadosReto.xlsx' creado con éxito.\")"
      ],
      "metadata": {
        "colab": {
          "base_uri": "https://localhost:8080/"
        },
        "id": "MrtwN2lgveEt",
        "outputId": "a6e69120-f412-44c6-ff0e-dfba3109514a"
      },
      "execution_count": 93,
      "outputs": [
        {
          "output_type": "stream",
          "name": "stdout",
          "text": [
            "Archivo 'resultadosReto.xlsx' creado con éxito.\n"
          ]
        }
      ]
    }
  ]
}